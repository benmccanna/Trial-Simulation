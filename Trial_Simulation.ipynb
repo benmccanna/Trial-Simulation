{
 "cells": [
  {
   "cell_type": "markdown",
   "id": "ba8a452d",
   "metadata": {},
   "source": [
    "# Trial simulation computational practical\n",
    "<hr style=\"border:1px solid gray\">\n",
    "<hr style=\"border:1px solid gray\">\n",
    "<br></br>\n",
    "\n",
    "## Introduction\n",
    "In this notebook we will simulate and analyze clinical trial data for hypothetical [randomized controlled trials](https://en.wikipedia.org/wiki/Randomized_controlled_trial) (RCTs) and [observational studies](https://en.wikipedia.org/wiki/Observational_study). By comparing the two we will gain a hands-on understanding of the problem of [confounding](https://en.wikipedia.org/wiki/Confounding).\n",
    "\n",
    "### The Problem\n",
    "The trials we will simulate are investigating the impact of some treatment $T$ on the survival rate of a deadly disease. We will analyze our trial data using logistic regression. [Regression](https://en.wikipedia.org/wiki/Regression_analysis) means we fitting a model to our data by tuning some parameters and finding the the values of those parameters which maximise the accuracy of the model. [Logistic regression](https://en.wikipedia.org/wiki/Logistic_regression) means modelling the probability of death as a logistic function of $T$, given by\n",
    "\n",
    "$$ P(D=1|T) = \\left[1+\\exp\\left(-\\beta_0 - \\beta_1 T\\right)\\right]^{-1}, $$\n",
    "\n",
    "where $D=1,0$ denotes death/survival, $T=1,0$ denotes treatment/no treatment, and $\\beta_{0,1}$ are the regression paramters. We will refer to the estimates of these parameters (the values which maximise the model's accuracy) as $\\hat{\\beta}_{0,1}$. With this form of the probability the [odds](https://en.wikipedia.org/wiki/Odds) of death, defined as the ratio of death probability to survival probability, are given by\n",
    "\n",
    "$$ \\text{Odds}(D=1|T) = \\frac{P(D=1|T)}{P(D=0|T)} = \\frac{P(D=1|T)}{1-P(D=1|T)} = \\exp\\left(\\beta_0 + \\beta_1 T\\right).$$\n",
    "\n",
    "The [odds ratio](https://en.wikipedia.org/wiki/Odds_ratio) (OR) between the treated and untreated groups is then the exponential of $\\beta_1$, the regression coefficient of $T$\n",
    "\n",
    "$$ OR = \\frac{\\text{Odds}(D=1|T=1)}{\\text{Odds}(D=1|T=0)} = \\frac{\\exp\\left(\\beta_0 + \\beta_1\\right)}{\\exp\\left(\\beta_0\\right)} = \\exp\\left(\\beta_1\\right).$$\n",
    "\n",
    "### Odds ratio\n",
    "\n",
    "The OR in principle tells us the average effect of the treatment in the sample. If the treatment improves each patient's chance of survival then we should find $OR < 1$. Conversely, $OR>1$ indicates that the treatment worsens survival odds, and $OR=1$ indicates no treatment effect.\n",
    "\n",
    "Another way of putting this is that $\\beta_1$ is equal to the log of the odds ratio: $ \\beta_1 = \\ln{OR} $. If $\\beta_1$ is positive then the treatment appears to increase survival odds, while $\\beta_1<0$ suggests that the treatment decreases survival odds, and $\\beta_1=0$ indicates no effect.\n",
    "\n",
    "Due to chance, the odds ratio we measure from a trial will almost always be a little different to the true OR. In fact, even if the treatment did nothing we would not expect to obtain an $OR=1$. This would mean that the survival rate in the treatment group and control group was identical, which is very unlikely even if the groups are taking the same treatment.\n",
    "\n",
    "We therefore need a way to see if the odds ratio is \"[statistically significant](https://en.wikipedia.org/wiki/Statistical_significance)\".\n",
    "\n",
    "### Statistical significance\n",
    "\n",
    "To measure statistical significance we will use the [p-value](https://en.wikipedia.org/wiki/P-value) of the regression estimate $\\hat{\\beta}_1$. We will also output the 95% [confidence interval](https://en.wikipedia.org/wiki/Confidence_interval) for $\\hat{\\beta}_1$, which is an equivalent way of measuring statistical significance.\n",
    "\n",
    "The proper meaning of the p-value and confidence interval is rather technical and you don't need to understand it. Just know that a small p-value and a narrow confidence interval indicates a \"significant\" result which we can more confidently attribute to a real treatment effect.\n",
    "\n",
    "Conventionally, we compare the p-value to some significance threshold $\\alpha$ (conventionally $\\alpha=0.05$, i.e. $5\\%$). If $p < \\alpha$ we say the result is significant, otherwise it isn't.\n",
    "\n",
    "\n",
    "### Simulations\n",
    "\n",
    "The steps of each simulated trial will be as follows:\n",
    "1. Generate simulated trial data\n",
    "2. Analyze the data using logistic regression\n",
    "3. Extract $\\hat{\\beta}_1$, its p-value, and its confidence interval, from the regression\n",
    "4. Compute the estimated odds ratio $\\hat{OR} = \\exp{\\hat{\\beta}_1}$\n",
    "5. Determine if the trial was a success ($\\hat{OR} < 1$ and $p < \\alpha$)\n",
    "\n",
    "<br></br>\n",
    "<hr style=\"border:1px solid gray\">\n",
    "<br></br>\n",
    "\n",
    "## Global variables, packages, and functions\n",
    "\n",
    "### Package import\n",
    "First, we import any packages we might need."
   ]
  },
  {
   "cell_type": "code",
   "execution_count": 4,
   "id": "b1be3525",
   "metadata": {},
   "outputs": [],
   "source": [
    "import numpy as np # So that python can do maths for us\n",
    "import pandas as pd # Pandas is a great package for handling data\n",
    "import matplotlib.pyplot as plt # In case we want to plot anything\n",
    "import statsmodels.api as sm # This package will perform logistic regression for us\n",
    "# statsmodels will also calculate p values, standard errors, and confidence intervals for us"
   ]
  },
  {
   "cell_type": "markdown",
   "id": "28f841ca",
   "metadata": {},
   "source": [
    "### Global variables\n",
    "Here is where we will set parameters common to all our simulations."
   ]
  },
  {
   "cell_type": "code",
   "execution_count": 6,
   "id": "2691f5b0",
   "metadata": {},
   "outputs": [],
   "source": [
    "nPatients = 1000 # Number of patients in each trial\n",
    "\n",
    "controlDeathProb = 0.5 # Probability of mortality with no treatment\n",
    "treatmentRelativeRisk = 0.75 # Factor by which treatment reduces your probability of death\n",
    "treatmentDeathProb = controlDeathProb*treatmentRelativeRisk # Probability of death with treatment\n",
    "\n",
    "nSims = 1000 # Number of times we will simulate each trial\n",
    "statSigThreshold = 0.05 # statistical significance threshold for p values and confidence intervals"
   ]
  },
  {
   "cell_type": "markdown",
   "id": "905752ea",
   "metadata": {},
   "source": [
    "It's also worth here looking at the true odds ratio to compare to our estimates later on."
   ]
  },
  {
   "cell_type": "code",
   "execution_count": 8,
   "id": "5ddbb6de",
   "metadata": {},
   "outputs": [
    {
     "name": "stdout",
     "output_type": "stream",
     "text": [
      "True odds ratio = 0.6\n"
     ]
    }
   ],
   "source": [
    "controlDeathOdds = controlDeathProb/(1-controlDeathProb)\n",
    "treatmentDeathOdds = treatmentDeathProb/(1-treatmentDeathProb)\n",
    "trueOddsRatio = treatmentDeathOdds/controlDeathOdds\n",
    "print('True odds ratio =',trueOddsRatio)"
   ]
  },
  {
   "cell_type": "markdown",
   "id": "e6320780",
   "metadata": {},
   "source": [
    "### Regression function\n",
    "This function will compute logistic regression for us, and return the odds ratio, and the confidence interval of $\\beta_1$"
   ]
  },
  {
   "cell_type": "code",
   "execution_count": 10,
   "id": "36c8c11f",
   "metadata": {},
   "outputs": [],
   "source": [
    "def myLogisticRegression(x,y,confIntThreshold = statSigThreshold):\n",
    "    xWithIntercept = sm.add_constant(x)\n",
    "    regression = sm.Logit(y,xWithIntercept).fit(disp=0)\n",
    "    \n",
    "    oddsRatio = np.exp(regression.params[1])\n",
    "    pValue = regression.pvalues[1]\n",
    "    lowerCI, upperCI = np.exp(regression.conf_int(confIntThreshold)[1])\n",
    "    \n",
    "    return oddsRatio, pValue, lowerCI, upperCI"
   ]
  },
  {
   "cell_type": "markdown",
   "id": "78958b22",
   "metadata": {},
   "source": [
    "### Trial success function\n",
    "This function will compute the success of simulated trials given their odds ratios and p-values, according to some statistical significance threshold. It will then display the number of successful and unsuccessful trials and plot them on a bar chart."
   ]
  },
  {
   "cell_type": "code",
   "execution_count": 12,
   "id": "b2e19044",
   "metadata": {},
   "outputs": [],
   "source": [
    "def determineSuccess(oddsRatio, pValue, pValThreshold = statSigThreshold, display = True):\n",
    "    success = ((oddsRatio < 1) & (pValue < pValThreshold)).astype(int)\n",
    "    \n",
    "    if display:\n",
    "        successCounts = pd.Series(success).value_counts()\n",
    "        successCounts.index = successCounts.index.map({0: 'Failure', 1: 'Success'})\n",
    "        print(successCounts)\n",
    "        successCounts.plot(kind=\"barh\")\n",
    "    return success"
   ]
  },
  {
   "cell_type": "markdown",
   "id": "2d8ad7ad",
   "metadata": {},
   "source": [
    "<br></br>\n",
    "<hr style=\"border:1px solid gray\">\n",
    "<br></br>\n",
    "\n",
    "## Simulating an RCT\n",
    "First, we will simulate a bunch of randomised controlled trials (RCTs). We'll start by initializing a dataframe with `nSims` rows which will store the odds ratio, p-value, and $95$% confidence interval of each trial, as well as whether that trial was a success."
   ]
  },
  {
   "cell_type": "code",
   "execution_count": 14,
   "id": "8375c5cd",
   "metadata": {},
   "outputs": [],
   "source": [
    "RCTs = pd.DataFrame(\n",
    "    columns=['OR','pValue','LCI','UCI','success'],\n",
    "    index = range(nSims)\n",
    ")\n",
    "# OR = Odds ratio of death between treatment and control groups\n",
    "# pValue = p value for odds ratio\n",
    "# success =  Did the trial measure a positive, statistically significant treatment effect?\n",
    "# [LCI, UCI] = 95% confidence interval for odds ratio"
   ]
  },
  {
   "cell_type": "markdown",
   "id": "f8d45a40",
   "metadata": {},
   "source": [
    "Now we initialize numpy's random number generator, and run our simulations. Setting the seed to a definite value means we will get the same sequence of simulations every time. If you want to keep re-running the for-loop and get a new set of results every time then set the seed to `None`."
   ]
  },
  {
   "cell_type": "code",
   "execution_count": 16,
   "id": "6eef4429",
   "metadata": {},
   "outputs": [
    {
     "name": "stdout",
     "output_type": "stream",
     "text": [
      "Success    979\n",
      "Failure     21\n",
      "Name: count, dtype: int64\n"
     ]
    },
    {
     "data": {
      "image/png": "[encoded data removed]",
      "text/plain": [
       "<Figure size 640x480 with 1 Axes>"
      ]
     },
     "metadata": {},
     "output_type": "display_data"
    }
   ],
   "source": [
    "seed = 42\n",
    "rng = np.random.default_rng(seed)\n",
    "\n",
    "for i in range(nSims):\n",
    "\n",
    "    treatment = np.tile([0,1],int(0.5*nPatients))\n",
    "    \n",
    "    deathProb = np.full(nPatients, controlDeathProb)\n",
    "    deathProb[treatment==1] = treatmentDeathProb\n",
    "    deathOutcome = rng.binomial(1, deathProb)\n",
    "\n",
    "    RCTs.loc[i,['OR','pValue','LCI','UCI']] = myLogisticRegression(treatment, deathOutcome)\n",
    "\n",
    "RCTs.success = determineSuccess(RCTs.OR, RCTs.pValue, statSigThreshold)"
   ]
  },
  {
   "cell_type": "markdown",
   "id": "20aa630e",
   "metadata": {},
   "source": [
    "A vast majority of our trials are successes, so our studies have enough statistical power to measure a treatment effect of this size.\n",
    "### With a covariate: patient age\n",
    "We are going to add in patient age as a covariate that affects their outcome. First we must choose a random distribution for this variable, and for simplicity we will use a uniform distribution. In our code we will implement this with the line `age = rng.uniform(minAge,maxAge,nPatients)` so lets first set these minimum and maximum age variables."
   ]
  },
  {
   "cell_type": "code",
   "execution_count": 18,
   "id": "7502b838",
   "metadata": {},
   "outputs": [],
   "source": [
    "minAge = 18\n",
    "maxAge = 80"
   ]
  },
  {
   "cell_type": "markdown",
   "id": "4bb5f740",
   "metadata": {},
   "source": [
    "Now we need to decide how age is going to impact mortality. As a very basic example, let's assume the fatality of this disease suddenly increases above a certain age, `ageDeathThreshold`. This means we'll need the following variables."
   ]
  },
  {
   "cell_type": "code",
   "execution_count": 20,
   "id": "648025bf",
   "metadata": {},
   "outputs": [],
   "source": [
    "ageDeathThreshold = 29\n",
    "youngDeathProb = 0.1\n",
    "oldDeathProb = 0.5"
   ]
  },
  {
   "cell_type": "markdown",
   "id": "d343644a",
   "metadata": {},
   "source": [
    "Now we make a new dataframe and re-initialize the RNG, then run new simulated RCTs with outcome now dependent on age."
   ]
  },
  {
   "cell_type": "code",
   "execution_count": 22,
   "id": "564fb2af",
   "metadata": {},
   "outputs": [
    {
     "name": "stdout",
     "output_type": "stream",
     "text": [
      "Success    923\n",
      "Failure     77\n",
      "Name: count, dtype: int64\n"
     ]
    },
    {
     "data": {
      "image/png": "[encoded data removed]",
      "text/plain": [
       "<Figure size 640x480 with 1 Axes>"
      ]
     },
     "metadata": {},
     "output_type": "display_data"
    }
   ],
   "source": [
    "RCTsCov = pd.DataFrame(\n",
    "    columns=['OR','pValue','LCI','UCI','success'],\n",
    "    index = range(nSims)\n",
    ")\n",
    "\n",
    "seed = 42\n",
    "rng = np.random.default_rng(seed)\n",
    "\n",
    "for i in range(nSims):\n",
    "\n",
    "    treatment = np.tile([0,1],int(0.5*nPatients))\n",
    "\n",
    "    age = rng.uniform(minAge, maxAge, nPatients)\n",
    "        \n",
    "    deathProb = np.zeros(nPatients)\n",
    "    deathProb[age < ageDeathThreshold] = youngDeathProb\n",
    "    deathProb[age >= ageDeathThreshold] = oldDeathProb\n",
    "    deathProb[treatment==1] *= treatmentRelativeRisk\n",
    "    deathOutcome = rng.binomial(1, deathProb)\n",
    "\n",
    "    RCTsCov.loc[i,['OR','pValue','LCI','UCI']] = myLogisticRegression(treatment, deathOutcome)\n",
    "\n",
    "RCTsCov.success = determineSuccess(RCTsCov.OR, RCTsCov.pValue, statSigThreshold)"
   ]
  },
  {
   "cell_type": "markdown",
   "id": "38daa1af",
   "metadata": {},
   "source": [
    "We have a lot more failed trials but the overall success rate is still very good.\n",
    "\n",
    "<br></br>\n",
    "<hr style=\"border:1px solid gray\">\n",
    "<br></br>\n",
    "\n",
    "## Simulating an observational study\n",
    "Let's see what happens when treatment isn't completely randomized and instead depends on age, as it likely would in an observational study. This will introduce confounding bias since age is going to affect both outcome and treatment status, leading to correlations between the two.\n",
    "\n",
    "We are going to again look at a simple scenario where the probability of treatment suddenly increases above a certain age. For an extra simplification we are going to reuse the age threshold and probabilities for the survival outcomes.\n",
    "\n",
    "This isn't completely unrealistic, as treatments are given more often to those most at risk."
   ]
  },
  {
   "cell_type": "code",
   "execution_count": 24,
   "id": "84698286",
   "metadata": {},
   "outputs": [],
   "source": [
    "minAge = 18\n",
    "maxAge = 80\n",
    "ageDeathThreshold = 29\n",
    "youngDeathProb = 0.05\n",
    "oldDeathProb = 0.6\n",
    "\n",
    "ageTreatmentThreshold = ageDeathThreshold\n",
    "youngTreatmentProb = youngDeathProb\n",
    "oldTreatmentProb = oldDeathProb"
   ]
  },
  {
   "cell_type": "markdown",
   "id": "2e2a8f85",
   "metadata": {},
   "source": [
    "Now we re-initialize then run our observational simulations."
   ]
  },
  {
   "cell_type": "code",
   "execution_count": 26,
   "id": "1e41d423",
   "metadata": {},
   "outputs": [
    {
     "name": "stdout",
     "output_type": "stream",
     "text": [
      "Failure    998\n",
      "Success      2\n",
      "Name: count, dtype: int64\n"
     ]
    },
    {
     "data": {
      "image/png": "[encoded data removed]",
      "text/plain": [
       "<Figure size 640x480 with 1 Axes>"
      ]
     },
     "metadata": {},
     "output_type": "display_data"
    }
   ],
   "source": [
    "ObsTrials = pd.DataFrame(\n",
    "    columns=['OR','pValue','LCI','UCI','success'],\n",
    "    index = range(nSims)\n",
    ")\n",
    "\n",
    "seed = 42\n",
    "rng = np.random.default_rng(seed)\n",
    "\n",
    "for i in range(nSims):\n",
    "    age = rng.uniform(minAge,maxAge,nPatients)\n",
    "        \n",
    "    treatmentProb = np.zeros(nPatients)\n",
    "    treatmentProb[age < ageTreatmentThreshold] = youngTreatmentProb\n",
    "    treatmentProb[age >= ageTreatmentThreshold] = oldTreatmentProb\n",
    "    treatment = rng.binomial(1, treatmentProb)\n",
    "        \n",
    "    deathProb = np.zeros(nPatients)\n",
    "    deathProb[age < ageDeathThreshold] = youngDeathProb\n",
    "    deathProb[age >= ageDeathThreshold] = oldDeathProb\n",
    "    deathProb[treatment==1] *= treatmentRelativeRisk\n",
    "    deathOutcome = rng.binomial(1, deathProb)\n",
    "\n",
    "    ObsTrials.loc[i,['OR','pValue','LCI','UCI']] = myLogisticRegression(treatment, deathOutcome)\n",
    "    \n",
    "ObsTrials.success = determineSuccess(ObsTrials.OR, ObsTrials.pValue, statSigThreshold)"
   ]
  },
  {
   "cell_type": "markdown",
   "id": "1d052568",
   "metadata": {},
   "source": [
    "We almost exclusively have failed trials! Why is this? Let's look at the odds ratios from these regressions."
   ]
  },
  {
   "cell_type": "code",
   "execution_count": 28,
   "id": "07a58658",
   "metadata": {},
   "outputs": [
    {
     "data": {
      "image/png": "[encoded data removed]",
      "text/plain": [
       "<Figure size 640x480 with 1 Axes>"
      ]
     },
     "metadata": {},
     "output_type": "display_data"
    }
   ],
   "source": [
    "counts, binEdges, patches =  plt.hist(ObsTrials.OR, bins = 100)"
   ]
  },
  {
   "cell_type": "markdown",
   "id": "e7f790dd",
   "metadata": {},
   "source": [
    "Lots of the odds ratios are greater than one, suggesting a negative treatment effect! The reason we are seeing this is because in the observational data treatment is negatively correlated with survival. Essentially, the logistic regression models are learning that in this \"real\" healthcare scenario treatment predicts death - not because the treatment kills people but because the patients receiving the treatment are the ones that have a higher chance of dying.\n",
    "\n",
    "### Including the covariate in the model\n",
    "The solution to this problem is kind of obvious: we should exclude patients younger than `minTreatmentAge` from the observational sample. This kind of restricted inclusion criteria is often used in practice (e.g., including only non-smokers in a study), although it limits sample size and makes results only applicable to the restricted population. However, imagine we don't know none of our younger patients are receiving the treatment, but we do suspect age to be a confounding variable. One way we might try to improve our analysis is to include age as another independent variable $A$ in our logistic regression model, as follows\n",
    "$$ P(D=1|T,A) = \\left[1+\\exp\\left(-\\beta_0 - \\beta_1 T + \\beta_2 A\\right)\\right]^{-1}.$$\n",
    "Let's rerun our observational simulations using this multivaraite logistic model and see if there's any improvement."
   ]
  },
  {
   "cell_type": "code",
   "execution_count": 30,
   "id": "239e6aea",
   "metadata": {
    "scrolled": true
   },
   "outputs": [
    {
     "name": "stdout",
     "output_type": "stream",
     "text": [
      "Failure    771\n",
      "Success    229\n",
      "Name: count, dtype: int64\n"
     ]
    },
    {
     "data": {
      "image/png": "[encoded data removed]",
      "text/plain": [
       "<Figure size 640x480 with 1 Axes>"
      ]
     },
     "metadata": {},
     "output_type": "display_data"
    }
   ],
   "source": [
    "ObsTrialsCov = pd.DataFrame(columns=['OR','pValue','LCI','UCI','success'], index = range(nSims))\n",
    "\n",
    "seed = 42\n",
    "rng = np.random.default_rng(seed)\n",
    "\n",
    "for i in range(nSims):\n",
    "    age = rng.uniform(minAge,maxAge,nPatients)\n",
    "        \n",
    "    treatmentProb = np.zeros(nPatients)\n",
    "    treatmentProb[age < ageTreatmentThreshold] = youngTreatmentProb\n",
    "    treatmentProb[age >= ageTreatmentThreshold] = oldTreatmentProb\n",
    "    treatment = rng.binomial(1, treatmentProb)\n",
    "    \n",
    "    deathProb = np.zeros(nPatients)\n",
    "    deathProb[age < ageDeathThreshold] = youngDeathProb\n",
    "    deathProb[age >= ageDeathThreshold] = oldDeathProb\n",
    "    deathProb[treatment==1] *= treatmentRelativeRisk\n",
    "    deathOutcome = rng.binomial(1, deathProb)\n",
    "    \n",
    "    inputs = np.transpose([treatment,age])\n",
    "    ObsTrialsCov.loc[i,['OR','pValue','LCI','UCI']] = myLogisticRegression(inputs, deathOutcome)\n",
    "    \n",
    "ObsTrialsCov.success = determineSuccess(ObsTrialsCov.OR, ObsTrialsCov.pValue, statSigThreshold)"
   ]
  },
  {
   "cell_type": "markdown",
   "id": "09c8c8c3",
   "metadata": {},
   "source": [
    "This is a big improvement on the previous observational results, but still much worse than the RCTs.\n",
    "<br></br>\n",
    "<br></br>\n",
    "<hr style=\"border:1px solid gray\">\n",
    "<hr style=\"border:1px solid gray\">\n",
    "<br></br>"
   ]
  },
  {
   "cell_type": "markdown",
   "id": "807ec97f",
   "metadata": {},
   "source": [
    "## Extensions\n",
    "<br></br>\n",
    "<hr style=\"border:1px solid gray\">\n",
    "<br></br>\n",
    "\n",
    "### Extension 1 - RCT with attrition\n",
    "\n",
    "Go back to the RCT simulation, and see what happens if you delete entries from the outcome array. This simulates a trial with attrition - participants dropping out. For this extension you have to decide two things - which entries to delete, and how to deal with missing outcomes.\n",
    "\n",
    "- For which entries to delete, try the following three scenarios\n",
    "    1. Missing completely at random - participants drop out randomly\n",
    "    1. Missing at random - e.g. participants drop out randomly from just the treatment group\n",
    "    1. Missing not at random - e.g. participants drop out randomly if they died\n",
    "<br></br>\n",
    "\n",
    "- For the analysis, try the following options:\n",
    "    1. Per protocol analysis - ignore patients with missing outcomes\n",
    "    1. Imputation - fill missing outcome entries with either survival or death\n",
    "\n",
    "<br></br>\n",
    "<hr style=\"border:1px solid gray\">\n",
    "<br></br>"
   ]
  },
  {
   "cell_type": "markdown",
   "id": "f60a0aeb",
   "metadata": {},
   "source": [
    "### Extension 2 - RCT with non-adherence\n",
    "\n",
    "Go back to the RCT simulation with a covariate, and see what happens if you change the treatment array after it is initialised, but before outcomes are determined. This simulates a trial with non-adherence - participants not complying with their assigned treatment in one way or another. For this to impact the results you will need the probability of non-adherence to depend on the covariate (and hence the outcome probability).\n",
    "\n",
    "You need to decide which treatment entries to flip, and deal with non-adherence.\n",
    "\n",
    "- For which entries to flip, try combinations of the following:\n",
    "    1. Contamination - control group participants getting the treatment\n",
    "    1. Non-compliance - treatment group participants not getting or taking the treatment\n",
    "<br></br>\n",
    "\n",
    "- For the analysis, try the following options:\n",
    "    1. As-treated analysis - Analyse participants according to the new treatment array\n",
    "    1. Intention-to-treat analysis - Analyse participants according to the original randomised treatment\n",
    "    \n",
    "For the intention-to-treat analysis you'll need to save a copy of the original randomised treatment array before you flip some of the entries."
   ]
  }
 ],
 "metadata": {
  "kernelspec": {
   "display_name": "Python 3 (ipykernel)",
   "language": "python",
   "name": "python3"
  },
  "language_info": {
   "codemirror_mode": {
    "name": "ipython",
    "version": 3
   },
   "file_extension": ".py",
   "mimetype": "text/x-python",
   "name": "python",
   "nbconvert_exporter": "python",
   "pygments_lexer": "ipython3",
   "version": "3.9.18"
  }
 },
 "nbformat": 4,
 "nbformat_minor": 5
}
